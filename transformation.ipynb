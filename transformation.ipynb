{
 "cells": [
  {
   "cell_type": "code",
   "execution_count": 1,
   "id": "initial_id",
   "metadata": {
    "collapsed": true,
    "ExecuteTime": {
     "end_time": "2023-12-15T18:38:24.867836Z",
     "start_time": "2023-12-15T18:38:23.892703Z"
    }
   },
   "outputs": [],
   "source": [
    "import torch\n",
    "import numpy as np\n",
    "from tqdm.notebook import tqdm\n",
    "import os"
   ]
  },
  {
   "cell_type": "code",
   "execution_count": 3,
   "outputs": [],
   "source": [
    "def load_data(file_path:str):\n",
    "    weight, sample_seq, samples, ground_label, pred_label, ratio, type, ground_label, pred_label = torch.load(file_path)\n",
    "    num_pairs = len(ratio)\n",
    "    ratio = torch.tensor(ratio)\n",
    "    type = torch.tensor(type)\n",
    "    ground_label = torch.tensor(ground_label)\n",
    "    pred_label = torch.tensor(pred_label)\n",
    "    \n",
    "    conv1 = weight[\"conv1\"].repeat(num_pairs, 1, 1)\n",
    "    conv2 = weight[\"conv2\"].repeat(num_pairs, 1, 1)\n",
    "    fc1 = weight[\"fc1\"].repeat(num_pairs, 1, 1)\n",
    "    fc2 = weight[\"fc2\"].repeat(num_pairs, 1, 1)\n",
    "    fc3 = weight[\"fc3\"].repeat(num_pairs, 1, 1)\n",
    "    \n",
    "    x_conv1 = sample_seq[\"conv1\"].flatten(start_dim=-2)\n",
    "    x_maxpool1 = sample_seq[\"maxpool1\"].flatten(start_dim=-2)\n",
    "    x_conv2 = sample_seq[\"conv2\"].flatten(start_dim=-2)\n",
    "    x_maxpool2 = sample_seq[\"maxpool2\"].flatten(start_dim=-2)\n",
    "    x_fc1 = sample_seq[\"fc1\"]\n",
    "    x_fc2 = sample_seq[\"fc2\"]\n",
    "    x_fc3 = sample_seq[\"fc3\"]\n",
    "    \n",
    "    return conv1, conv2, fc1, fc2, fc3, x_conv1, x_maxpool1, x_conv2, x_maxpool2, x_fc1, x_fc2, x_fc3, ratio, type, ground_label, pred_label"
   ],
   "metadata": {
    "collapsed": false,
    "ExecuteTime": {
     "end_time": "2023-12-06T16:25:45.458158Z",
     "start_time": "2023-12-06T16:25:45.454052Z"
    }
   },
   "id": "b63a3e07b6e866db"
  },
  {
   "cell_type": "code",
   "execution_count": 6,
   "outputs": [
    {
     "data": {
      "text/plain": "  0%|          | 0/3973 [00:00<?, ?it/s]",
      "application/vnd.jupyter.widget-view+json": {
       "version_major": 2,
       "version_minor": 0,
       "model_id": "b9edc8957d464976a8547b0e918c1e18"
      }
     },
     "metadata": {},
     "output_type": "display_data"
    }
   ],
   "source": [
    "par_dir = \"pair_9_60\"\n",
    "target_dir = \"pair_9_60_npy\"\n",
    "files = os.listdir(par_dir)\n",
    "\n",
    "x_fc1_l = []\n",
    "x_fc2_l = []\n",
    "x_fc3_l = []\n",
    "x_maxpool2_l = []\n",
    "ratio_l = []\n",
    "type_l = []\n",
    "ground_label_l = []\n",
    "pred_label_l = []\n",
    "\n",
    "for file in tqdm(files):\n",
    "    conv1, conv2, fc1, fc2, fc3, x_conv1, x_maxpool1, x_conv2, x_maxpool2, x_fc1, x_fc2, x_fc3, ratio, type, ground_label, pred_label = load_data(f\"{par_dir}/{file}\")\n",
    "    x_fc1_l.append(x_fc1.cpu().detach().numpy())\n",
    "    x_fc2_l.append(x_fc2.cpu().detach().numpy())\n",
    "    x_fc3_l.append(x_fc3.cpu().detach().numpy())\n",
    "    x_maxpool2_l.append(x_maxpool2.cpu().detach().numpy())\n",
    "    ratio_l.append(ratio.cpu().detach().numpy())\n",
    "    type_l.append(type.cpu().detach().numpy())\n",
    "    ground_label_l.append(ground_label.cpu().detach().numpy())\n",
    "    pred_label_l.append(pred_label.cpu().detach().numpy())\n",
    "    \n",
    "x_fc1 = np.concatenate(x_fc1_l, axis=0)\n",
    "x_fc2 = np.concatenate(x_fc2_l, axis=0)\n",
    "x_fc3 = np.concatenate(x_fc3_l, axis=0)\n",
    "x_maxpool2 = np.concatenate(x_maxpool2_l, axis=0)\n",
    "\n",
    "# save to npy\n",
    "np.save(f\"{target_dir}/x_fc1.npy\", x_fc1)\n",
    "np.save(f\"{target_dir}/x_fc2.npy\", x_fc2)\n",
    "np.save(f\"{target_dir}/x_fc3.npy\", x_fc3)\n",
    "np.save(f\"{target_dir}/x_maxpool2.npy\", x_maxpool2)\n",
    "\n",
    "ratio = np.concatenate(ratio_l, axis=0)\n",
    "type = np.concatenate(type_l, axis=0)\n",
    "ground_label = np.concatenate(ground_label_l, axis=0)\n",
    "pred_label = np.concatenate(pred_label_l, axis=0)\n",
    "\n",
    "np.save(f\"{target_dir}/ratio.npy\", ratio)\n",
    "np.save(f\"{target_dir}/type.npy\", type)\n",
    "np.save(f\"{target_dir}/ground_label.npy\", ground_label)\n",
    "np.save(f\"{target_dir}/pred_label.npy\", pred_label)"
   ],
   "metadata": {
    "collapsed": false,
    "ExecuteTime": {
     "end_time": "2023-12-06T16:27:58.921331Z",
     "start_time": "2023-12-06T16:27:20.834965Z"
    }
   },
   "id": "40de3dadc2bf0af8"
  },
  {
   "cell_type": "code",
   "execution_count": 7,
   "outputs": [
    {
     "data": {
      "text/plain": "  0%|          | 0/3973 [00:00<?, ?it/s]",
      "application/vnd.jupyter.widget-view+json": {
       "version_major": 2,
       "version_minor": 0,
       "model_id": "17747c7ef1c14023b1e85dc4e91b8b64"
      }
     },
     "metadata": {},
     "output_type": "display_data"
    }
   ],
   "source": [
    "par_dir = \"pair_10_60\"\n",
    "target_dir = \"pair_10_60_npy\"\n",
    "files = os.listdir(par_dir)\n",
    "\n",
    "x_fc1_l = []\n",
    "x_fc2_l = []\n",
    "x_fc3_l = []\n",
    "x_maxpool2_l = []\n",
    "ratio_l = []\n",
    "type_l = []\n",
    "ground_label_l = []\n",
    "pred_label_l = []\n",
    "\n",
    "for file in tqdm(files):\n",
    "    conv1, conv2, fc1, fc2, fc3, x_conv1, x_maxpool1, x_conv2, x_maxpool2, x_fc1, x_fc2, x_fc3, ratio, type, ground_label, pred_label = load_data(f\"{par_dir}/{file}\")\n",
    "    x_fc1_l.append(x_fc1.cpu().detach().numpy())\n",
    "    x_fc2_l.append(x_fc2.cpu().detach().numpy())\n",
    "    x_fc3_l.append(x_fc3.cpu().detach().numpy())\n",
    "    x_maxpool2_l.append(x_maxpool2.cpu().detach().numpy())\n",
    "    ratio_l.append(ratio.cpu().detach().numpy())\n",
    "    type_l.append(type.cpu().detach().numpy())\n",
    "    ground_label_l.append(ground_label.cpu().detach().numpy())\n",
    "    pred_label_l.append(pred_label.cpu().detach().numpy())\n",
    "    \n",
    "x_fc1 = np.concatenate(x_fc1_l, axis=0)\n",
    "x_fc2 = np.concatenate(x_fc2_l, axis=0)\n",
    "x_fc3 = np.concatenate(x_fc3_l, axis=0)\n",
    "x_maxpool2 = np.concatenate(x_maxpool2_l, axis=0)\n",
    "\n",
    "# save to npy\n",
    "np.save(f\"{target_dir}/x_fc1.npy\", x_fc1)\n",
    "np.save(f\"{target_dir}/x_fc2.npy\", x_fc2)\n",
    "np.save(f\"{target_dir}/x_fc3.npy\", x_fc3)\n",
    "np.save(f\"{target_dir}/x_maxpool2.npy\", x_maxpool2)\n",
    "\n",
    "ratio = np.concatenate(ratio_l, axis=0)\n",
    "type = np.concatenate(type_l, axis=0)\n",
    "ground_label = np.concatenate(ground_label_l, axis=0)\n",
    "pred_label = np.concatenate(pred_label_l, axis=0)\n",
    "\n",
    "np.save(f\"{target_dir}/ratio.npy\", ratio)\n",
    "np.save(f\"{target_dir}/type.npy\", type)\n",
    "np.save(f\"{target_dir}/ground_label.npy\", ground_label)\n",
    "np.save(f\"{target_dir}/pred_label.npy\", pred_label)"
   ],
   "metadata": {
    "collapsed": false,
    "ExecuteTime": {
     "end_time": "2023-12-06T16:29:15.905878Z",
     "start_time": "2023-12-06T16:28:39.502535Z"
    }
   },
   "id": "13675d172efa78d"
  },
  {
   "cell_type": "code",
   "execution_count": null,
   "outputs": [],
   "source": [],
   "metadata": {
    "collapsed": false
   },
   "id": "16192a4436c9c63a"
  }
 ],
 "metadata": {
  "kernelspec": {
   "display_name": "Python 3",
   "language": "python",
   "name": "python3"
  },
  "language_info": {
   "codemirror_mode": {
    "name": "ipython",
    "version": 2
   },
   "file_extension": ".py",
   "mimetype": "text/x-python",
   "name": "python",
   "nbconvert_exporter": "python",
   "pygments_lexer": "ipython2",
   "version": "2.7.6"
  }
 },
 "nbformat": 4,
 "nbformat_minor": 5
}
